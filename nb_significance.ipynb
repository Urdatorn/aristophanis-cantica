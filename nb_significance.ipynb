{
 "cells": [
  {
   "cell_type": "markdown",
   "metadata": {},
   "source": [
    "# Baselines and Significance Testing"
   ]
  },
  {
   "cell_type": "markdown",
   "metadata": {},
   "source": [
    "### Conser's baseline"
   ]
  },
  {
   "cell_type": "markdown",
   "metadata": {},
   "source": [
    "#### Prose baseline\n",
    "\n",
    "Conser 2020, p. 264: \n",
    "> In order to determine how accentual contours might align by chance,\n",
    "it is first necessary to establish a baseline of chance alignment, using a con-\n",
    "trol group. In the prose of Lysias’ *Against Eratosthenes*, for example, the rate of\n",
    "matched accents between sections is **5.6%**, and the rate of compatible syllables\n",
    "is **73.6%**, providing a minimum baseline for chance alignment.\n",
    "\n",
    "Continuing in a footnote:\n",
    "\n",
    "> Random ‘stanza pairs’ were created by pairing odd and even paragraphs of the first 12 sections and trimming the longer section to have the same number of syllables as the shorter.\n",
    "This resulted in six stanza pairs, each containing an average of 86.5 syllables."
   ]
  },
  {
   "cell_type": "markdown",
   "metadata": {},
   "source": [
    "#### Trimeter baseline\n",
    "\n",
    "Most important:\n",
    "\n",
    "> Prose, however, is a poor choice of comparison for poetic texts, because of the effect of\n",
    "metrical responsion. [...] It is not surprising, then, that the percentage of both matched accents and\n",
    "compatible syllables are higher between sections of iambic trimeter, at **9.7%**\n",
    "and **76.9%** respectively.\n",
    "\n",
    "> Random stanza pairs were created by pairing sequential groups of eight lines, drawn from\n",
    "Antigone 1-96 and 162-321 (Prologue and Episode 1). Resolutions were treated as a single\n",
    "syllable. This resulted in sixteen stanza pairs, each containing 96 syllables.\n",
    "\n",
    "**Summary:**\n",
    "\n",
    "16 antistrophic pairs of 2x8 lines (strikingly, 8 is the mean for Aristophanes' cantica too!)\n",
    "\n",
    "Accentual responsion: **9.7%**\n",
    "Compatibility: **76.9%**"
   ]
  },
  {
   "cell_type": "markdown",
   "metadata": {},
   "source": [
    "## My baseline"
   ]
  },
  {
   "cell_type": "markdown",
   "metadata": {},
   "source": [
    "Strophe line length should match the mean length of the stanzas in the corpus. Constructing 79 baseline cantica would be overdoing a bit, so 16 seems fine. \n",
    "\n",
    "Most importantly, I'm going to make two things beyond Conser:\n",
    "- triadic and quadratic baselines, and\n",
    "- lyric Frankenstain cantica, using metres that appear in multiple songs, most importantly 4 tr^, cr and ar.\n",
    "  "
   ]
  },
  {
   "cell_type": "code",
   "execution_count": null,
   "metadata": {},
   "outputs": [
    {
     "name": "stdout",
     "output_type": "stream",
     "text": [
      "Total nr of sets of responding lines: 296 lines\n",
      "Mean strophe length: 7.625 ≈ 8 lines\n"
     ]
    }
   ],
   "source": [
    "from src.comp import compatibility_corpus\n",
    "from statistics import mean\n",
    "\n",
    "all_sets = compatibility_corpus('compiled/')\n",
    "\n",
    "flat = []\n",
    "length = 0\n",
    "cantica_lengths = []\n",
    "\n",
    "for play in all_sets:\n",
    "    for canticum in play:\n",
    "        for line_group in canticum:\n",
    "            flat.append(line_group)\n",
    "            length += 1\n",
    "    cantica_lengths.append(len(canticum))\n",
    "mean_cantica_length = mean(cantica_lengths)\n",
    "\n",
    "print(f'Total nr of sets of responding lines: {length} lines')\n",
    "print(f'Mean strophe length: {mean_cantica_length} ≈ {round(mean_cantica_length)} lines')\n"
   ]
  },
  {
   "cell_type": "markdown",
   "metadata": {},
   "source": [
    "Ach: 4x2x8. \n",
    "Excludes the extrametrical lines 43 and 61, and Pseudartabas weirdness, and also lines with anapests, e.g. \n",
    "    6,7 (36, 37 instead)\n",
    "\n",
    "cantica = [\n",
    "    [(1, 8), (9, 17)],\n",
    "    [(18, 26), (27, 35)],\n",
    "    [(72, 80), (81, 89)],\n",
    "    [(108, 116), (117, 125)]\n",
    "]\n",
    "\n",
    "Eq. 4x2x8\n",
    "\n",
    "cantica = [\n",
    "    [(18, 26), (27, 35)],\n",
    "    [(72, 80), (81, 89)],\n",
    "    [(108, 116), (117, 125)],\n",
    "    [(126, 134), (135, 143)]\n",
    "]\n",
    "\n",
    "Nu. \n",
    "Av.\n",
    "\n",
    "Let's find trochaic tetrameter catalectics, and make a pseudo-canticum with them!"
   ]
  },
  {
   "cell_type": "code",
   "execution_count": 8,
   "metadata": {},
   "outputs": [
    {
     "name": "stdout",
     "output_type": "stream",
     "text": [
      "[['Acharnenses204', '[Τῇ]{δε} [πᾶ]{#ς ἕ}[που], {δί}[ω]{#κε} [καὶ] {τὸ}[ν ἄν]{#δρα} [πυν]{θά}[νου] '], ['Acharnenses205', '[τῶν] {ὁ}[δοι]{#πό}[ρων] {ἁ}[πάν][#των]· [τῇ] {πό}[λει] {#γὰρ} [ἄξ]{ι}[ον] '], ['Acharnenses206', '[ξυλ]{λα}[βεῖν] {#τὸν} [ἄν]{δρα} [τοῦ]{#τον}. [Ἀλ]{λά} [μοι] [#μη][νύ]{σα}{τε}, '], ['Acharnenses207', \"[εἴ] {τις} [οἶ]{#δ' ὅ}[ποι] {τέ}[τραπ][#ται] [γῆς] {ὁ} [τὰς] [#σπον][δὰς] {φέ}[ρων]. \"], ['Acharnenses219', \"[Νῦν] {δ' ἐ}[πει][#δὴ] [στερ]{ρὸ}[ν ἤ][#δη] [τοὐ]{μὸ}[ν ἀν][#τικ][νή]{μι}[ον] \"], ['Acharnenses220', '[καὶ] {πα}[λαι][#ῷ] [Λακ]{ρα}[τεί][#δῃ] [τὸ σ]{κέ}[λος] {#βα}[ρύ]{νε}[ται], '], ['Acharnenses221', '[οἴ]{χε}[ται]. [#Δι][ωκ]{τέ}[ος] {#δέ}· [μὴ] {γὰ}[ρ ἐγ]{#χά}[νοι] {πο}{τὲ} '], ['Acharnenses222', '[μη]{δέ} [περ] {#γέ}[ρον]{τα}[ς ὄν]{#τα}[ς ἐκ]{φυ}[γὼ]{#ν Ἀ}[χαρ]{νέ}[ας], '], ['Acharnenses284', '[Ἡ]{ρά}[κλεις] [#του][τὶ] {τί} [ἐσ]{#τι}; [τὴν] {χύ}[τραν] [#συν][τρίψ]{ε}{τε}. '], ['Acharnenses286-287', '[Ἀν]{τὶ} [ποί][#ας] [αἰ]{τί}[ας], [#ὦ][χαρ]{νέ}[ων] {#γε}[ραί]{τα}[τοι]; '], ['Acharnenses293-294', \"[Ἀν]{τὶ} [δ' ὧ][#ν ἐσ][πει]{σά}[μη][#ν ἠ][κού]{σα}[τ'; Ἀλ]{#λ' ἀ}[κού]{σα}{τε}. \"], ['Acharnenses296', \"[Μη]{δα}[μῶς] {#πρὶ}[ν ἄν] {γ' ἀ}[κού][#ση][τ'· ἀλ]{λ' ἀ}[νάσ]{#χε}[σθ', ὦ]{γα}[θοί]. \"], ['Acharnenses335', \"[Ὡ]{ς ἀ}[ποκ]{#τε}[νῶ]· {κέ}[κραχ]{#θ'· ἐ}[γὼ] {γὰ}[ρ οὐ]{#κ ἀ}[κού]{σο}[μαι]. \"], ['Acharnenses337', \"[Οὐ]{δ' ἐ}[μοῦ] {#λέ}[γον]{τος} [ὑ][#μεῖ][ς ἀρ]{τί}[ως] [#ἠ][κού]{σα}{τε}. \"], ['Acharnenses341', '[Τοὺς] {λί}[θους] [#νύν] [μοι] {χα}[μᾶζ]{#ε} [πρῶ]{το}[ν ἐξ]{#ε}[ρά]{σα}{τε}. '], ['Acharnenses343', \"[Ἀλ]{λ' ὅ}[πως] [#μὴ 'ν] [τοῖς] {τρί}[βω]{#σι}[ν ἐγ]{κά}[θην][#ταί] [που] {λί}[θοι]. \"], ['Acharnenses986', \"[ἐξ]{έ}[χει] [#θ' ἡ][μῶν] {βί}[ᾳ] {#τὸ}[ν οἶ]{νο}[ν ἐκ] [#τῶ][ν ἀμ]{πέ}[λων]. \"], ['Acharnenses999', \"[ὥσ]{τ' ἀ}[λεί][#φεσ][θαι] {σ' ἀ}[π' αὐ][#τῶν] [κἀ]{μὲ} [ταῖς] [#νου][μη]{νί}[αις]. \"], ['Equites311-312', '[ὅσ]{τι}[ς ἡ][#μῶν] [τὰ]{ς Ἀ}[θή][#να][ς ἐκ]{κε}[κώ][#φω][κας] {βο}[ῶν] '], ['Equites313', '[κἀ]{πὸ} [τῶν] {#πε}[τρῶ]{ν ἄ}[νω][#θεν] [τοὺς] {φό}[ρους] [#θυν][νοσ]{κο}[πῶν]. '], ['Equites389', '[Ὡ]{ς ἐ}[ὰν] [#νυ][νὶ] {μα}[λάξ][#ῃ][ς αὐ]{τὸ}[ν ἐν] [#τῇ] [προσ]{βο}[λῇ], '], ['Equites390', '[δει]{λὸ}[ν εὑ][#ρή][σει]{ς· ἐ}[γὼ] [#γὰρ] [τοὺς] {τρό}[που]{#ς ἐ}[πίσ]{τα}[μαι]. '], ['Equites326', '[ᾗ] {σὺ} [πισ][#τεύ][ων] {ἀ}[μέλ][#γει] [τῶν] {ξέ}[νων] [#τοὺς] [καρ]{πί}[μους], '], ['Equites327', \"[πρῶ]{το}[ς ὤ]{#ν· ὁ} [δ' Ἱπ]{πο}[δά][#μου] [λεί]{βε}[ται] {#θε}[ώ]{με}[νος]. \"], ['Equites330', '[ὅς] {σε} [παύ][#σει] [καὶ] {πά}[ρει]{#σι}, [δῆ]{λό}[ς ἐσ]{#τι}[ν, αὐ]{τό}[θεν] '], ['Equites400', '[Εἴ] {σε} [μὴ] [#μι][σῶ], {γε}[νοί][#μη][ν ἐν] {Κρα}[τί][#νου] [κῴ]{δι}[ον] '], ['Equites401', '[καὶ] {δι}[δασ][#κοί][μην] {προ}[σᾴ][#δειν] [Μορ]{σί}[μου] {#τρα}[γῳ]{δί}[ᾳ]. '], ['Equites404', '[εἴ]{θε} [φαύ][#λω][ς, ὥσ]{πε}[ρ ηὗ]{#ρε}[ς, ἐκ]{βά}[λοις] [#τὴ][ν ἔν]{θε}[σιν]. '], ['Pax350', '[οὐ]{δὲ} [τοὺς] {#τρό}[πους] {γε} [δή][#που σ][κλη]{ρὸ}[ν ὥ][#σπερ] [καὶ] {πρὸ} [τοῦ], '], ['Pax356-357', '[εἰς] {Λύ}[κει][#ον] [κἀκ] {Λυ}[κεί][#ου] [σὺν] {δό}[ρει] {#σὺ}[ν ἀσ]{πί}{δι}. '], ['Pax389', \"[Οὐ]{κ ἀ}[κού][#εις] [οἷ]{α} [θω][#πεύ][ου]{σί} [σ', ὦ][#ναξ] [δέσ]{πο}{τα}; \"], ['Pax395', '[εἴ] {τι} [Πει][#σάν][δρου] {βδε}[λύτ][#τει] [τοὺς] {λό}[φους] [#καὶ] [τὰς] {ὀ}[φρῦς]. '], ['Pax586-587', '[Ἦσ]{θα} [γὰρ] {#μέ}[γισ]{το}[ν ἡ][#μῖν] [κέρ]{δο}[ς, ὦ] {#πο}[θου]{μέ}[νη], '], ['Pax595', '[Τοῖ]{ς ἀ}[γροί][#κοι][σιν] {γὰ}[ρ ἦσ]{#θα} [χῖ]{δρα} [καὶ] [#σω][τη]{ρί}[α]. '], ['Pax920', '[#δει][νῶ]{ν ἀ}[παλ][#λάξ][ας] {πό}[νων] [#τὸν] [δη]{μό}[την] ὅμιλον, '], ['Pax921', '[#καὶ] [τὸν] {γε}[ωρ]{#γι}[κὸν] {λε}[ὼ]{#ν Ὑ}[πέρ]{βο}[λόν] {τε} [παύ][σας]. '], ['Vespae335', '[κἀ]{πο}[κλεί][#ων] [τῇ] {θύ}[ρᾳ]; [#λέξ][ον]· {πρὸ}[ς εὔ][#νους] [γὰρ] {φρά}[σεις]. '], ['Vespae336', '[οὑ]{μὸς} [υἱ]{#ός}. [ἀλ]{λὰ} [μὴ] {#βο}[ᾶ]{τε}· [καὶ] [#γὰρ] [τυγ]{χά}[νει] '], ['Vespae337', \"[οὑ]{το}[σὶ] [#πρόσ][θεν] {κα}[θεύ][#δω][ν. ἀλ]{λ' ὕ}[φεσ]{#θε} [τοῦ] {τό}[νου]. \"], ['Vespae338', \"[τοῦ] {δ' ἔ}[φεξ]{#ι}[ν, ὦ] {μά}[ται]{ε}, [ταῦ]{τα} [δρᾶν] {#σε} [βού]{λε}[ται]; \"], ['Vespae340', \"[οὐ]{κ ἐ}[ᾷ] [#μ', ὦ 'ν][δρες], {δι}[κάζ][#ειν] [οὐ]{δὲ} [δρᾶ][#ν οὐ][δὲν] {κα}[κόν]· \"], ['Vespae341', \"[ἀλ]{λά} [μ' εὐ][#ω][χεῖ]{ν ἕ}[τοι]{#μό}[ς ἐσ]{τ', ἐ}[γὼ] [#δ' οὐ] [βού]{λο}[μαι]. \"], ['Vespae366', \"[μη]{χα}[νὴ]{#ν ὅ}[πως] {τά}[χισ]{#θ'· ἕ}[ως] {γά}[ρ, ὦ] {#με}[λίτ]{τι}[ον]. \"], ['Vespae367', '{€δι}{€α}{τρα}[γεῖν] [#τοί][νυν] {κρά}[τισ]{#τό}[ν ἐσ]{τί} [μοι] {#τὸ} [δίκ]{τυ}[ον]. '], ['Vespae368', '[ἡ] {δέ} [μοι] [#Δίκ][τυν]{να} [συγ][#γνώ][μη]{ν ἔ}[χοι] [#τοῦ] [δικ]{τύ}[ου]. '], ['Vespae369', \"[ταῦ]{τα} [μὲν] {#πρὸ}[ς ἀν]{δρό}[ς ἐσ]{#τ' ἄ}[νον]{το}[ς ἐς] [σω][τη]{ρί}[αν]. \"], ['Vespae371', \"{€δι}{€α}{τέ}[τρωκ][#ται] [τοῦ]{τό} [γ'. ἀλ]{#λὰ} [μὴ] {βο}[ᾶ]{#τε} [μη]{δα}[μῶς], \"], ['Vespae372', \"[ἀλ]{λὰ} [τη][#ρώ][μεσ]{θ' ὅ}[πως] [#μὴ] {€Βδε}{€λυ}{κλέ}[ω][#ν αἰσ][θή]{σε}[ται]. \"], ['Vespae538', \"[#καὶ] [μὴ]{ν ὅ}[σ' ἂν] [#λέξ][ῃ] {γ' ἁ}[πλῶς] [#μνη]{€μό}{€συ}{να} [γράψ]{ο}[μαι] '[γώ]. \"], ['Vespae539', \"{#τί} [γάρ] {φα}[θ' ὑ][#μεῖ][ς, ἢ]{ν ὁ}[δί] {#με} [τῷ] {λό}[γῳ] {κρα}[τή][σῃ]; \"], ['Vespae1060', \"[ὢ] {πά}[λαι] {#πο}[τ' ὄν]{τε}[ς ἡ][#μεῖ][ς ἄλ]{κι}[μοι] {#μὲ}[ν ἐν] {χο}[ροῖς], \"], ['Vespae1091', \"[ἆ]{ρα} [δει]{#νὸ}[ς ἦ] {τό}[θ', ὥσ]{#τε} [πάν]{τα} [μὴ] {#δε}[δοι]{κέ}[ναι], \"]]\n",
      "Lyric trochaic tetrameter catalectics found: 52\n"
     ]
    }
   ],
   "source": [
    "from lxml import etree\n",
    "from pathlib import Path\n",
    "\n",
    "compiled = [\n",
    "    Path('scan') / file for file in [\n",
    "        'responsion_ach_scan.xml', \n",
    "        'responsion_av_scan.xml', \n",
    "        'responsion_eq_scan.xml', \n",
    "        'responsion_nu_scan.xml', \n",
    "        'responsion_pax_scan.xml', \n",
    "        'responsion_v_scan.xml'\n",
    "    ]\n",
    "]\n",
    "\n",
    "trochaic_tetrameter_catalectic = []\n",
    "\n",
    "for xml_file in compiled:\n",
    "    try:\n",
    "        tree = etree.parse(xml_file)\n",
    "        for l in tree.xpath(\"//l[@metre='4 tr^']\"):\n",
    "            text = ''.join(l.itertext()) # good lxml method to know; recursively joins all texts and tails\n",
    "            title = tree.xpath(\"//title/text()\")[0]\n",
    "            provenience = title + l.attrib['n']\n",
    "            if text == '' or l.attrib.get('skip', 'False') == 'True':\n",
    "                continue\n",
    "            complete_description = [provenience, text]\n",
    "            trochaic_tetrameter_catalectic.append(complete_description)\n",
    "\n",
    "    except etree.XMLSyntaxError as e:\n",
    "        print(f\"Error parsing XML: {e}\")\n",
    "\n",
    "print(trochaic_tetrameter_catalectic)\n",
    "print(f'Lyric trochaic tetrameter catalectics found: {len(trochaic_tetrameter_catalectic)}')\n",
    "\n",
    "with open('scan/lyricbaseline.txt', 'w', encoding='utf-8') as file:\n",
    "    for line in trochaic_tetrameter_catalectic:\n",
    "        file.write(f'<l n=\"{line[0]}\">{line[1]}</l>\\n')"
   ]
  },
  {
   "cell_type": "code",
   "execution_count": null,
   "metadata": {},
   "outputs": [
    {
     "name": "stdout",
     "output_type": "stream",
     "text": [
      "Trimeter 2-strophes compatibility: 0.7929447852760736\n",
      "Trimeter 3-strophes compatibility: 0.8103975535168195\n",
      "Trimeter 4-strophes compatibility: 0.7522935779816514\n",
      "Tetrameter 2-strophes compatibility: 0.8217391304347826\n",
      "Tetrameter 3-strophes compatibility: 0.8014814814814815\n",
      "Tetrameter 4-strophes compatibility: 0.7651515151515151\n",
      "--------------------------------\n",
      "Total corpus compatibility: 0.820297233364188\n"
     ]
    }
   ],
   "source": [
    "from pathlib import Path\n",
    "\n",
    "from src.comp import compatibility_corpus, compatibility_play, compatibility_canticum, compatibility_ratios_to_stats\n",
    "\n",
    "trimeter_path = Path('data/compiled/baseline/responsion_baseline_compiled.xml')\n",
    "trimeterpoly_path = Path('data/compiled/baseline/responsion_baselinepoly_compiled.xml')\n",
    "tetrameter_path = Path('data/compiled/baseline/responsion_lyricbaseline_compiled.xml')\n",
    "\n",
    "if not all(p.exists() for p in [tetrameter_path, trimeter_path, trimeterpoly_path]):\n",
    "    print(f'Some baseline file paths do not exist.')\n",
    "\n",
    "#\n",
    "# Compatibility baselines\n",
    "#\n",
    "\n",
    "trimeter_2_strophic = compatibility_play(trimeter_path) # 3 antistrophic cantica of 2x8 lines each\n",
    "trimeter_3_strophes = compatibility_canticum(trimeterpoly_path, 'baselinepoly01')\n",
    "trimeter_4_strophes = compatibility_canticum(trimeterpoly_path, 'baselinepoly02')\n",
    "tetrameter_2_strophes = compatibility_canticum(tetrameter_path, 'lyricbaseline01')\n",
    "tetrameter_3_strophes = compatibility_canticum(tetrameter_path, 'lyricbaseline02')\n",
    "tetrameter_4_strophes = compatibility_canticum(tetrameter_path, 'lyricbaseline03')\n",
    "\n",
    "trimeter_2_strophic_baseline = compatibility_ratios_to_stats([trimeter_2_strophic])\n",
    "trimeter_3_strophes_baseline = compatibility_ratios_to_stats([trimeter_3_strophes])\n",
    "trimeter_4_strophes_baseline = compatibility_ratios_to_stats([trimeter_4_strophes])\n",
    "tetrameter_2_strophes_baseline = compatibility_ratios_to_stats([tetrameter_2_strophes])\n",
    "tetrameter_3_strophes_baseline = compatibility_ratios_to_stats([tetrameter_3_strophes])\n",
    "tetrameter_4_strophes_baseline = compatibility_ratios_to_stats([tetrameter_4_strophes])\n",
    "\n",
    "print(f'Trimeter 2-strophes compatibility baseline: {trimeter_2_strophic_baseline}')\n",
    "print(f'Trimeter 3-strophes compatibility baseline: {trimeter_3_strophes_baseline}')\n",
    "print(f'Trimeter 4-strophes compatibility baseline: {trimeter_4_strophes_baseline}')\n",
    "print(f'Tetrameter 2-strophes compatibility baseline: {tetrameter_2_strophes_baseline}')\n",
    "print(f'Tetrameter 3-strophes compatibility baseline: {tetrameter_3_strophes_baseline}')\n",
    "print(f'Tetrameter 4-strophes compatibility baseline: {tetrameter_4_strophes_baseline}')\n",
    "\n",
    "#\n",
    "# Accentual responsion baselines\n",
    "#\n",
    "\n",
    "\n",
    "\n",
    "print('--------------------------------')\n",
    "all_sets = compatibility_corpus('data/compiled/') # takes a dir path \n",
    "total_comp = compatibility_ratios_to_stats(all_sets)\n",
    "print(f'Total actual corpus compatibility: {total_comp}')"
   ]
  },
  {
   "cell_type": "code",
   "execution_count": null,
   "metadata": {},
   "outputs": [],
   "source": []
  }
 ],
 "metadata": {
  "kernelspec": {
   "display_name": "3.13.0",
   "language": "python",
   "name": "python3"
  },
  "language_info": {
   "codemirror_mode": {
    "name": "ipython",
    "version": 3
   },
   "file_extension": ".py",
   "mimetype": "text/x-python",
   "name": "python",
   "nbconvert_exporter": "python",
   "pygments_lexer": "ipython3",
   "version": "3.13.0"
  }
 },
 "nbformat": 4,
 "nbformat_minor": 2
}
