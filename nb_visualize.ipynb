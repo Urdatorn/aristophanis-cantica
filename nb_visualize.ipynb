{
 "cells": [
  {
   "cell_type": "code",
   "execution_count": 3,
   "id": "f0cf6087",
   "metadata": {},
   "outputs": [
    {
     "name": "stdout",
     "output_type": "stream",
     "text": [
      "\n",
      "Responsion: ach01\n",
      "\n",
      "Strophe:\n",
      "Acutes: set()\n",
      "Acutes: {10, 13, 7}\n",
      "Acutes: set()\n",
      "Acutes: {4, 14}\n",
      "Acutes: set()\n",
      "Acutes: {3}\n",
      "Acutes: set()\n",
      "Acutes: {5}\n",
      "Acutes: {3, 23}\n",
      "204: -\u001b[31m^\u001b[0mu-x-u-x-u-x-u-\n",
      "Τῇδε πᾶς ἕπου, δίωκε καὶ τὸν ἄνδρα πυνθάνου\n",
      "205: -u-x-u-\u001b[32m'\u001b[0mx-u\u001b[32m'\u001b[0m-x-\u001b[32m'\u001b[0mu-\n",
      "τῶν ὁδοιπόρων ἁπάντων· τῇ πόλει γὰρ ἄξιον\n",
      "206: -u-x-u-x-u-x-uU\n",
      "ξυλλαβεῖν τὸν ἄνδρα τοῦτον. Ἀλλά μοι μηνύσατε,\n",
      "207: -u-x-u-x-u-x-u\u001b[32m'\u001b[0m-\n",
      "εἴ τις οἶδ' ὅποι τέτραπται γῆς ὁ τὰς σπονδὰς φέρων.\n",
      "208-209: -u--u-\n",
      "Ἐκπέφευγ', οἴχεται\n",
      "210-211: -u-\u001b[32m'\u001b[0m-u--\u001b[31m^\u001b[0mu--u-\n",
      "φροῦδος. Οἴμοι τάλας τῶν ἐτῶν τῶν ἐμῶν·\n",
      "211-212: -u(uu)-\u001b[31m^\u001b[0mu(uu)-u(uu)-u-\n",
      "οὐκ ἂν ἐπ' ἐμῆς γε νεότητος, ὅτ' ἐγὼ φέρων\n",
      "213-214: -u--u\u001b[32m'\u001b[0mU\n",
      "ἀνθράκων φορτίον\n",
      "215-217: -u-\u001b[32m'\u001b[0m-u--u--\u001b[31m^\u001b[0mu--u--u(uu)-u(uu)-u\u001b[32m'\u001b[0m(uu)-u(uu)-u(uu)-u(uu)-u(uu)-uU\n",
      "ἠκολούθουν Φαΰλλῳ τρέχων, ὧδε φαύλως ἂν ὁ σπονδοφόρος οὗτος ὑπ' ἐμοῦ τότε διωκόμενος ἐξέφυγεν οὐδ' ἂν ἐλαφρῶς ἂν ἀπεπλίξατο.\n",
      "\n",
      "Antistrophe:\n",
      "Acutes: set()\n",
      "Acutes: {10, 13, 7}\n",
      "Acutes: set()\n",
      "Acutes: {4, 14}\n",
      "Acutes: set()\n",
      "Acutes: {3}\n",
      "Acutes: set()\n",
      "Acutes: {5}\n",
      "Acutes: {3, 23}\n",
      "219: -\u001b[31m^\u001b[0mu-x-u-x-u-x-u-\n",
      "Νῦν δ' ἐπειδὴ στερρὸν ἤδη τοὐμὸν ἀντικνήμιον\n",
      "220: -u-x-u-\u001b[32m'\u001b[0mx-u\u001b[32m'\u001b[0m-x-\u001b[32m'\u001b[0mu-\n",
      "καὶ παλαιῷ Λακρατείδῃ τὸ σκέλος βαρύνεται,\n",
      "221: -u-x-u-x-u-x-uU\n",
      "οἴχεται. Διωκτέος δέ· μὴ γὰρ ἐγχάνοι ποτὲ\n",
      "222: -u-x-u-x-u-x-u\u001b[32m'\u001b[0m-\n",
      "μηδέ περ γέροντας ὄντας ἐκφυγὼν Ἀχαρνέας,\n",
      "223-224: -u--u-\n",
      "ὅστις, ὦ Ζεῦ πάτερ\n",
      "225: -u-\u001b[32m'\u001b[0m-u--\u001b[31m^\u001b[0mu--uU\n",
      "καὶ θεοί, τοῖσιν ἐχθροῖσιν ἐσπείσατο,\n",
      "226: -u(uu)-\u001b[31m^\u001b[0mu(uu)-u(uu)-u-\n",
      "οἷσι παρ' ἐμοῦ πόλεμος ἐχθοδοπὸς αὔξεται\n",
      "227: -u--u\u001b[32m'\u001b[0m-\n",
      "τῶν ἐμῶν χωρίων·\n",
      "230-233: -u-\u001b[32m'\u001b[0m-u--u--\u001b[31m^\u001b[0mu--u--u--u(uu)-u\u001b[32m'\u001b[0m(uu)-u(uu)-u(uu)-u(uu)-u--u-\n",
      "κοὐκ ἀνήσω πρὶν ἂν σχοῖνος αὐτοῖσιν ἀντεμπαγῶ καὶ σκόλοψ ὀξύς, ὀδυνηρός, ἐπίκωπος, ἵνα μήποτε πατῶσιν ἔτι τὰς ἐμὰς ἀμπέλους.\n",
      "\n",
      "Total responding accents colored: \u001b[36m24\u001b[0m\n",
      "Total canonical syllables: \u001b[36m135\u001b[0m\n"
     ]
    }
   ],
   "source": [
    "from src.visualize import visualize_responsion\n",
    "from src.utils.utils import abbreviations\n",
    "\n",
    "canticum = \"ach01\"\n",
    "infix = canticum[:-2]\n",
    "\n",
    "input_file = f\"data/compiled/responsion_{infix}_compiled.xml\"\n",
    "\n",
    "visualize_responsion(canticum, xml=input_file)"
   ]
  }
 ],
 "metadata": {
  "kernelspec": {
   "display_name": "3.13.0",
   "language": "python",
   "name": "python3"
  },
  "language_info": {
   "codemirror_mode": {
    "name": "ipython",
    "version": 3
   },
   "file_extension": ".py",
   "mimetype": "text/x-python",
   "name": "python",
   "nbconvert_exporter": "python",
   "pygments_lexer": "ipython3",
   "version": "3.13.0"
  }
 },
 "nbformat": 4,
 "nbformat_minor": 5
}
