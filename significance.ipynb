{
 "cells": [
  {
   "cell_type": "markdown",
   "metadata": {},
   "source": [
    "## Conser's baseline"
   ]
  },
  {
   "cell_type": "markdown",
   "metadata": {},
   "source": [
    "### Prose baseline\n",
    "\n",
    "Conser 2020, p. 264: \n",
    "> In order to determine how accentual contours might align by chance,\n",
    "it is first necessary to establish a baseline of chance alignment, using a con-\n",
    "trol group. In the prose of Lysias’ *Against Eratosthenes*, for example, the rate of\n",
    "matched accents between sections is **5.6%**, and the rate of compatible syllables\n",
    "is **73.6%**, providing a minimum baseline for chance alignment.\n",
    "\n",
    "Continuing in a footnote:\n",
    "\n",
    "> Random ‘stanza pairs’ were created by pairing odd and even paragraphs of the first 12 sections and trimming the longer section to have the same number of syllables as the shorter.\n",
    "This resulted in six stanza pairs, each containing an average of 86.5 syllables."
   ]
  },
  {
   "cell_type": "markdown",
   "metadata": {},
   "source": [
    "### Trimeter baseline\n",
    "\n",
    "Most important:\n",
    "\n",
    "> Prose, however, is a poor choice of comparison for poetic texts, because of the effect of\n",
    "metrical responsion. [...] It is not surprising, then, that the percentage of both matched accents and\n",
    "compatible syllables are higher between sections of iambic trimeter, at **9.7%**\n",
    "and **76.9%** respectively.\n",
    "\n",
    "> Random stanza pairs were created by pairing sequential groups of eight lines, drawn from\n",
    "Antigone 1-96 and 162-321 (Prologue and Episode 1). Resolutions were treated as a single\n",
    "syllable. This resulted in sixteen stanza pairs, each containing 96 syllables.\n",
    "\n",
    "**Summary:**\n",
    "\n",
    "16 antistrophic pairs of 2x8 lines (strikingly, 8 is the mean for Aristophanes' cantica too!)\n",
    "\n",
    "Accentual responsion: **9.7%**\n",
    "Compatibility: **76.9%**"
   ]
  },
  {
   "cell_type": "markdown",
   "metadata": {},
   "source": [
    "## My baseline"
   ]
  },
  {
   "cell_type": "markdown",
   "metadata": {},
   "source": [
    "Strophe line length should match the mean length of the stanzas in the corpus. Constructing 79 baseline cantica would be overdoing a bit, so 16 seems fine. \n",
    "\n",
    "I'm going to make triadic and quadratic baselines as well."
   ]
  },
  {
   "cell_type": "code",
   "execution_count": 10,
   "metadata": {},
   "outputs": [
    {
     "name": "stdout",
     "output_type": "stream",
     "text": [
      "Total nr of sets of responding lines: 296 lines\n",
      "Mean strophe length: 7.625 ≈ 8 lines\n"
     ]
    }
   ],
   "source": [
    "from comp import compatibility_corpus\n",
    "from statistics import mean\n",
    "\n",
    "all_sets = compatibility_corpus('compiled/')\n",
    "\n",
    "flat = []\n",
    "length = 0\n",
    "cantica_lengths = []\n",
    "\n",
    "for play in all_sets:\n",
    "    for canticum in play:\n",
    "        for line_group in canticum:\n",
    "            flat.append(line_group)\n",
    "            length += 1\n",
    "    cantica_lengths.append(len(canticum))\n",
    "mean_cantica_length = mean(cantica_lengths)\n",
    "\n",
    "print(f'Total nr of sets of responding lines: {length} lines')\n",
    "print(f'Mean strophe length: {mean_cantica_length} ≈ {round(mean_cantica_length)} lines')\n"
   ]
  }
 ],
 "metadata": {
  "kernelspec": {
   "display_name": "3.13.0",
   "language": "python",
   "name": "python3"
  },
  "language_info": {
   "codemirror_mode": {
    "name": "ipython",
    "version": 3
   },
   "file_extension": ".py",
   "mimetype": "text/x-python",
   "name": "python",
   "nbconvert_exporter": "python",
   "pygments_lexer": "ipython3",
   "version": "3.13.0"
  }
 },
 "nbformat": 4,
 "nbformat_minor": 2
}
