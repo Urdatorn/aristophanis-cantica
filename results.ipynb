{
 "cells": [
  {
   "cell_type": "markdown",
   "metadata": {},
   "source": [
    "# Results\n",
    "\n",
    "## Contour Compatibility\n",
    "\n",
    "Conser's Aeschylus: 80.2% compatibility.\n",
    "\n",
    "For Aristophanes:"
   ]
  },
  {
   "cell_type": "code",
   "execution_count": 16,
   "metadata": {},
   "outputs": [
    {
     "name": "stdout",
     "output_type": "stream",
     "text": [
      "Total compatibility: 0.8187384986357003\n"
     ]
    }
   ],
   "source": [
    "from src.comp import compatibility_corpus, compatibility_play, compatibility_ratios_to_stats\n",
    "\n",
    "all_sets = compatibility_corpus('compiled/')\n",
    "total_comp = compatibility_ratios_to_stats(all_sets)\n",
    "\n",
    "print(f'Total compatibility: {total_comp}')\n"
   ]
  },
  {
   "cell_type": "code",
   "execution_count": 17,
   "metadata": {},
   "outputs": [
    {
     "name": "stdout",
     "output_type": "stream",
     "text": [
      "Compatibility for ach: 0.8170377541142304\n",
      "Compatibility for eq: 0.8115438108484005\n",
      "Compatibility for nu: 0.82\n",
      "Compatibility for v: 0.817450495049505\n",
      "Compatibility for pax: 0.82531328320802\n",
      "Compatibility for av: 0.8145285935085008\n",
      "Compatibility for lys: 0.8303571428571429\n"
     ]
    }
   ],
   "source": [
    "def print_comp(abbreviation):\n",
    "    list = compatibility_play(f'compiled/responsion_{abbreviation}_compiled.xml')\n",
    "    comp = compatibility_ratios_to_stats(list)\n",
    "    print(f'Compatibility for {abbreviation}: {comp}')\n",
    "\n",
    "print_comp('ach')\n",
    "print_comp('eq')\n",
    "print_comp('nu')\n",
    "print_comp('v')\n",
    "print_comp('pax')\n",
    "print_comp('av')\n",
    "print_comp('lys')"
   ]
  }
 ],
 "metadata": {
  "kernelspec": {
   "display_name": "3.13.0",
   "language": "python",
   "name": "python3"
  },
  "language_info": {
   "codemirror_mode": {
    "name": "ipython",
    "version": 3
   },
   "file_extension": ".py",
   "mimetype": "text/x-python",
   "name": "python",
   "nbconvert_exporter": "python",
   "pygments_lexer": "ipython3",
   "version": "3.13.0"
  }
 },
 "nbformat": 4,
 "nbformat_minor": 2
}
